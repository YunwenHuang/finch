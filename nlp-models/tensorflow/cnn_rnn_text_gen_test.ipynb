{
 "cells": [
  {
   "cell_type": "code",
   "execution_count": null,
   "metadata": {},
   "outputs": [],
   "source": [
    "from cnn_rnn_text_gen import ConvRNNTextGen\n",
    "\n",
    "\n",
    "if __name__ == '__main__':\n",
    "    with open('./temp/ptb_train.txt') as f:\n",
    "        text = f.read()\n",
    "\n",
    "    model = ConvRNNTextGen(text)\n",
    "    log = model.fit(start_word='the')"
   ]
  }
 ],
 "metadata": {
  "kernelspec": {
   "display_name": "Python 3",
   "language": "python",
   "name": "python3"
  },
  "language_info": {
   "codemirror_mode": {
    "name": "ipython",
    "version": 3
   },
   "file_extension": ".py",
   "mimetype": "text/x-python",
   "name": "python",
   "nbconvert_exporter": "python",
   "pygments_lexer": "ipython3",
   "version": "3.6.3"
  }
 },
 "nbformat": 4,
 "nbformat_minor": 2
}
