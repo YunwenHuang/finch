{
 "cells": [
  {
   "cell_type": "code",
   "execution_count": 1,
   "metadata": {},
   "outputs": [
    {
     "name": "stdout",
     "output_type": "stream",
     "text": [
      "3.87 secs ==> Document-Term Matrix\n",
      "10.46 secs ==> TF-IDF transform\n",
      "3.95 secs ==> Document-Term Matrix\n",
      "9.61 secs ==> TF-IDF transform\n",
      "Train (25000, 20000) | Test (25000, 20000)\n",
      "Epoch 1/2 | Step 50/781 | train_loss: 0.6363 | train_acc: 0.8125 | lr: 0.0050\n",
      "Epoch 1/2 | Step 100/781 | train_loss: 0.6032 | train_acc: 0.7812 | lr: 0.0050\n",
      "Epoch 1/2 | Step 150/781 | train_loss: 0.5807 | train_acc: 0.7188 | lr: 0.0050\n",
      "Epoch 1/2 | Step 200/781 | train_loss: 0.4916 | train_acc: 0.8438 | lr: 0.0050\n",
      "Epoch 1/2 | Step 250/781 | train_loss: 0.4711 | train_acc: 0.8438 | lr: 0.0050\n",
      "Epoch 1/2 | Step 300/781 | train_loss: 0.4072 | train_acc: 0.8750 | lr: 0.0050\n",
      "Epoch 1/2 | Step 350/781 | train_loss: 0.4182 | train_acc: 0.8750 | lr: 0.0050\n",
      "Epoch 1/2 | Step 400/781 | train_loss: 0.4244 | train_acc: 0.8750 | lr: 0.0050\n",
      "Epoch 1/2 | Step 450/781 | train_loss: 0.3532 | train_acc: 0.9375 | lr: 0.0050\n",
      "Epoch 1/2 | Step 500/781 | train_loss: 0.3727 | train_acc: 0.8750 | lr: 0.0050\n",
      "Epoch 1/2 | Step 550/781 | train_loss: 0.3979 | train_acc: 0.8125 | lr: 0.0050\n",
      "Epoch 1/2 | Step 600/781 | train_loss: 0.3281 | train_acc: 0.8750 | lr: 0.0050\n",
      "Epoch 1/2 | Step 650/781 | train_loss: 0.3122 | train_acc: 0.9375 | lr: 0.0050\n",
      "Epoch 1/2 | Step 700/781 | train_loss: 0.3303 | train_acc: 0.9062 | lr: 0.0050\n",
      "Epoch 1/2 | Step 750/781 | train_loss: 0.3636 | train_acc: 0.8438 | lr: 0.0050\n",
      "Epoch 1/2 | train_loss: 0.1913 | train_acc: 1.0000 | test_loss: 0.3426 | test_acc: 0.8846 | lr: 0.0050\n",
      "Epoch 2/2 | Step 50/781 | train_loss: 0.4054 | train_acc: 0.9062 | lr: 0.0050\n",
      "Epoch 2/2 | Step 100/781 | train_loss: 0.2871 | train_acc: 0.9375 | lr: 0.0050\n",
      "Epoch 2/2 | Step 150/781 | train_loss: 0.3688 | train_acc: 0.9375 | lr: 0.0050\n",
      "Epoch 2/2 | Step 200/781 | train_loss: 0.2800 | train_acc: 0.9688 | lr: 0.0050\n",
      "Epoch 2/2 | Step 250/781 | train_loss: 0.2369 | train_acc: 0.9375 | lr: 0.0050\n",
      "Epoch 2/2 | Step 300/781 | train_loss: 0.2142 | train_acc: 0.9375 | lr: 0.0050\n",
      "Epoch 2/2 | Step 350/781 | train_loss: 0.3384 | train_acc: 0.8750 | lr: 0.0050\n",
      "Epoch 2/2 | Step 400/781 | train_loss: 0.1650 | train_acc: 1.0000 | lr: 0.0050\n",
      "Epoch 2/2 | Step 450/781 | train_loss: 0.1894 | train_acc: 1.0000 | lr: 0.0050\n",
      "Epoch 2/2 | Step 500/781 | train_loss: 0.2891 | train_acc: 0.9062 | lr: 0.0050\n",
      "Epoch 2/2 | Step 550/781 | train_loss: 0.2064 | train_acc: 0.9688 | lr: 0.0050\n",
      "Epoch 2/2 | Step 600/781 | train_loss: 0.2267 | train_acc: 0.9375 | lr: 0.0050\n",
      "Epoch 2/2 | Step 650/781 | train_loss: 0.2272 | train_acc: 0.9688 | lr: 0.0050\n",
      "Epoch 2/2 | Step 700/781 | train_loss: 0.2661 | train_acc: 0.9375 | lr: 0.0050\n",
      "Epoch 2/2 | Step 750/781 | train_loss: 0.2639 | train_acc: 0.8438 | lr: 0.0050\n",
      "Epoch 2/2 | train_loss: 0.2371 | train_acc: 0.8750 | test_loss: 0.2935 | test_acc: 0.8903 | lr: 0.0050\n",
      "final testing accuracy: 0.8904\n"
     ]
    }
   ],
   "source": [
    "import tensorflow as tf\n",
    "import numpy as np\n",
    "import time\n",
    "\n",
    "from logistic_regression import LogisticRegression\n",
    "from sklearn.feature_extraction.text import TfidfTransformer\n",
    "\n",
    "\n",
    "VOCAB_SIZE = 20000\n",
    "\n",
    "\n",
    "def transform(X, tfidf):\n",
    "    t0 = time.time()\n",
    "    count = np.zeros((len(X), VOCAB_SIZE))\n",
    "    for i, indices in enumerate(X):\n",
    "        for idx in indices:\n",
    "            count[i, idx] += 1\n",
    "    print(\"%.2f secs ==> Document-Term Matrix\"%(time.time()-t0))\n",
    "\n",
    "    t0 = time.time()\n",
    "    X = tfidf.fit_transform(count)\n",
    "    print(\"%.2f secs ==> TF-IDF transform\"%(time.time()-t0))\n",
    "    return X\n",
    "\n",
    "\n",
    "if __name__ == '__main__':\n",
    "    (X_train, y_train), (X_test, y_test) = tf.keras.datasets.imdb.load_data(\n",
    "        num_words=VOCAB_SIZE)\n",
    "    \n",
    "    tfidf = TfidfTransformer()\n",
    "    X_train = transform(X_train, tfidf)\n",
    "    X_test = transform(X_test, tfidf)\n",
    "\n",
    "    model = LogisticRegression(VOCAB_SIZE, 2)\n",
    "    model.fit(X_train, y_train, n_epoch=2, batch_size=32, val_data=(X_test, y_test))\n",
    "    y_pred = model.predict(X_test)\n",
    "    \n",
    "    final_acc = (y_pred == y_test).mean()\n",
    "    print(\"final testing accuracy: %.4f\" % final_acc)\n"
   ]
  },
  {
   "cell_type": "code",
   "execution_count": null,
   "metadata": {},
   "outputs": [],
   "source": []
  }
 ],
 "metadata": {
  "kernelspec": {
   "display_name": "Python 3",
   "language": "python",
   "name": "python3"
  },
  "language_info": {
   "codemirror_mode": {
    "name": "ipython",
    "version": 3
   },
   "file_extension": ".py",
   "mimetype": "text/x-python",
   "name": "python",
   "nbconvert_exporter": "python",
   "pygments_lexer": "ipython3",
   "version": "3.6.3"
  }
 },
 "nbformat": 4,
 "nbformat_minor": 2
}
