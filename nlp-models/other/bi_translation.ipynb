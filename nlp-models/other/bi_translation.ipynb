{
 "cells": [
  {
   "cell_type": "markdown",
   "metadata": {},
   "source": [
    "* As far as I know, this is idea is first raised by [Pavel Ostyakov](https://www.kaggle.com/c/jigsaw-toxic-comment-classification-challenge/discussion/48038)\n",
    "* ISO-639-1 Code: https://cloud.google.com/translate/docs/languages"
   ]
  },
  {
   "cell_type": "code",
   "execution_count": 1,
   "metadata": {},
   "outputs": [],
   "source": [
    "from textblob import TextBlob\n",
    "\n",
    "def parse(text, to_list, from_lang='zh-CN'):\n",
    "    res = []\n",
    "    text = TextBlob(comment)\n",
    "    for to in to_list:\n",
    "        temp = text.translate(from_lang=from_lang, to=to)\n",
    "        res.append(temp.translate(from_lang=to, to=from_lang))\n",
    "    return res"
   ]
  },
  {
   "cell_type": "code",
   "execution_count": 2,
   "metadata": {},
   "outputs": [
    {
     "data": {
      "text/plain": [
       "[TextBlob(\"我非常喜欢这部电影，里面的情节非常好\"),\n",
       " TextBlob(\"我很喜欢这部电影，剧情里面非常好\"),\n",
       " TextBlob(\"我喜欢这部电影，剧情里面非常好\")]"
      ]
     },
     "execution_count": 2,
     "metadata": {},
     "output_type": "execute_result"
    }
   ],
   "source": [
    "comment = '我很喜欢这部电影，里面的情节很棒'\n",
    "parse(comment, ['en', 'es', 'ja'])"
   ]
  },
  {
   "cell_type": "code",
   "execution_count": 3,
   "metadata": {},
   "outputs": [
    {
     "data": {
      "text/plain": [
       "[TextBlob(\"This movie is a waste of time, meaningless to watch it\"),\n",
       " TextBlob(\"this movie is a waste of time and it does not make sense to look at it\"),\n",
       " TextBlob(\"This movie is a waste of time and there is no point to see it\")]"
      ]
     },
     "execution_count": 3,
     "metadata": {},
     "output_type": "execute_result"
    }
   ],
   "source": [
    "comment = 'this movie is a waste of time and there is no point to watch it '\n",
    "parse(comment, ['zh-CN', 'es', 'ja'], 'en')"
   ]
  }
 ],
 "metadata": {
  "kernelspec": {
   "display_name": "Python 3",
   "language": "python",
   "name": "python3"
  },
  "language_info": {
   "codemirror_mode": {
    "name": "ipython",
    "version": 3
   },
   "file_extension": ".py",
   "mimetype": "text/x-python",
   "name": "python",
   "nbconvert_exporter": "python",
   "pygments_lexer": "ipython3",
   "version": "3.6.3"
  }
 },
 "nbformat": 4,
 "nbformat_minor": 2
}
