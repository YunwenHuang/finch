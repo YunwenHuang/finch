{
 "cells": [
  {
   "cell_type": "markdown",
   "metadata": {},
   "source": [
    "https://cloud.google.com/translate/docs/languages"
   ]
  },
  {
   "cell_type": "code",
   "execution_count": 12,
   "metadata": {},
   "outputs": [
    {
     "data": {
      "text/plain": [
       "[TextBlob(\"我非常喜欢这部电影，里面的情节非常好\"),\n",
       " TextBlob(\"我很喜欢这部电影，剧情里面非常好\"),\n",
       " TextBlob(\"我喜欢这部电影，剧情里面非常好\")]"
      ]
     },
     "execution_count": 12,
     "metadata": {},
     "output_type": "execute_result"
    }
   ],
   "source": [
    "from textblob import TextBlob\n",
    "\n",
    "def parse(text, to_list, from_lang='zh-CN'):\n",
    "    res = []\n",
    "    text = TextBlob(comment)\n",
    "    for to in to_list:\n",
    "        temp = text.translate(from_lang=from_lang, to=to)\n",
    "        res.append(temp.translate(from_lang=to, to=from_lang))\n",
    "    return res\n",
    "        \n",
    "\n",
    "comment = '我很喜欢这部电影，里面的情节很棒'\n",
    "\n",
    "parse(comment, ['en', 'es', 'ja'])"
   ]
  },
  {
   "cell_type": "code",
   "execution_count": null,
   "metadata": {},
   "outputs": [],
   "source": []
  }
 ],
 "metadata": {
  "kernelspec": {
   "display_name": "Python 3",
   "language": "python",
   "name": "python3"
  },
  "language_info": {
   "codemirror_mode": {
    "name": "ipython",
    "version": 3
   },
   "file_extension": ".py",
   "mimetype": "text/x-python",
   "name": "python",
   "nbconvert_exporter": "python",
   "pygments_lexer": "ipython3",
   "version": "3.6.3"
  }
 },
 "nbformat": 4,
 "nbformat_minor": 2
}
