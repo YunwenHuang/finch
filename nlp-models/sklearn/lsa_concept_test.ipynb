{
 "cells": [
  {
   "cell_type": "code",
   "execution_count": 3,
   "metadata": {},
   "outputs": [
    {
     "name": "stdout",
     "output_type": "stream",
     "text": [
      "Concept 0 : chemistry | organic | science | biology | essentials | \n",
      "Concept 1 : chemistry | organic | biochemistry | biological | masteringchemistry | \n",
      "Concept 2 : history | art | volume | chemistry | myartslab | \n",
      "Concept 3 : human | anatomy | physiology | biology | sexuality | \n",
      "Concept 4 : science | biology | earth | computer | political | \n",
      "Concept 5 : biology | molecular | concepts | campbell | cell | \n",
      "Concept 6 : sociology | essentials | earth | business | geology | \n",
      "Concept 7 : marketing | management | analysis | principles | real | \n",
      "Concept 8 : economics | science | business | earth | marketing | \n",
      "Concept 9 : marketing | psychology | management | statistics | probability | \n",
      "Concept 10 : mechanics | quantum | economics | sociology | engineering | \n",
      "Concept 11 : psychology | analysis | abnormal | forensic | understanding | \n",
      "Concept 12 : calculus | sociology | theory | applications | analysis | \n",
      "Concept 13 : calculus | computer | organization | transcendentals | applications | \n",
      "Concept 14 : theory | game | probability | principles | computer | \n",
      "Concept 15 : data | structures | java | algorithms | economics | \n",
      "Concept 16 : theory | game | world | business | data | \n",
      "Concept 17 : world | economics | religions | sexuality | human | \n",
      "Concept 18 : systems | principles | fundamentals | sociology | database | \n",
      "Concept 19 : fundamentals | world | thermodynamics | physical | engineering | \n"
     ]
    }
   ],
   "source": [
    "from lsa_concept import LSA\n",
    "\n",
    "\n",
    "if __name__ == '__main__':\n",
    "    documents = [line.rstrip() for line in open('temp/all_book_titles.txt')]\n",
    "\n",
    "    stopwords = set(line.rstrip() for line in open('temp/stopwords.txt')).union({\n",
    "        'introduction', 'edition', 'series', 'application',\n",
    "        'approach', 'card', 'access', 'package', 'plus', 'etext',\n",
    "        'brief', 'vol', 'fundamental', 'guide', 'essential', 'printed',\n",
    "        'third', 'second', 'fourth',\n",
    "    })\n",
    "\n",
    "    model = LSA(stopwords)\n",
    "    model.fit(documents)\n",
    "    model.concepts()"
   ]
  },
  {
   "cell_type": "code",
   "execution_count": null,
   "metadata": {},
   "outputs": [],
   "source": []
  }
 ],
 "metadata": {
  "kernelspec": {
   "display_name": "Python 3",
   "language": "python",
   "name": "python3"
  },
  "language_info": {
   "codemirror_mode": {
    "name": "ipython",
    "version": 3
   },
   "file_extension": ".py",
   "mimetype": "text/x-python",
   "name": "python",
   "nbconvert_exporter": "python",
   "pygments_lexer": "ipython3",
   "version": "3.6.3"
  }
 },
 "nbformat": 4,
 "nbformat_minor": 2
}
