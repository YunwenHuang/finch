{
 "cells": [
  {
   "cell_type": "code",
   "execution_count": 1,
   "metadata": {},
   "outputs": [
    {
     "name": "stderr",
     "output_type": "stream",
     "text": [
      "/usr/local/lib/python3.6/site-packages/sklearn/decomposition/online_lda.py:536: DeprecationWarning: The default value for 'learning_method' will be changed from 'online' to 'batch' in the release 0.20. This warning was introduced in 0.18.\n",
      "  DeprecationWarning)\n"
     ]
    },
    {
     "name": "stdout",
     "output_type": "stream",
     "text": [
      "Topic #0: physical geology ecology exploring laboratory\n",
      "Topic #1: commerce electronic strategy border planning\n",
      "Topic #2: sociology computer organization essentials architecture\n",
      "Topic #3: marketing earth management science perspectives\n",
      "Topic #4: calculus mechanics understanding sexuality quantum\n",
      "Topic #5: clinical straight path numerical ecoimmunology\n",
      "Topic #6: accounting hinduism astronomy forensic aerodynamics\n",
      "Topic #7: biology molecular concepts equations differential\n",
      "Topic #8: physics music engineers scientists appreciation\n",
      "Topic #9: business law global methods research\n",
      "Topic #10: chemistry theory organic principles applications\n",
      "Topic #11: statistics data structures anthropology evolution\n",
      "Topic #12: science political pharmacology medicine mathematics\n",
      "Topic #13: history art anatomy physiology volume\n",
      "Topic #14: thermodynamics nutrition engineering criminology forestry\n",
      "Topic #15: economics world geography religions contemporary\n",
      "Topic #16: psychology foundations probability ethics processes\n",
      "Topic #17: film literature philosophy learning machine\n",
      "Topic #18: real analysis systems microbiology finance\n",
      "Topic #19: feminism nurses pharmacology politics pathophysiologic\n",
      "\n"
     ]
    }
   ],
   "source": [
    "from lda_concept import LDA\n",
    "\n",
    "\n",
    "if __name__ == '__main__':\n",
    "    documents = [line.rstrip() for line in open('temp/all_book_titles.txt')]\n",
    "\n",
    "    stopwords = set(line.rstrip() for line in open('temp/stopwords.txt')).union({\n",
    "        'introduction', 'edition', 'series', 'application',\n",
    "        'approach', 'card', 'access', 'package', 'plus', 'etext',\n",
    "        'brief', 'vol', 'fundamental', 'guide', 'essential', 'printed',\n",
    "        'third', 'second', 'fourth',\n",
    "    })\n",
    "\n",
    "    model = LDA(stopwords)\n",
    "    model.fit(documents)\n",
    "    model.concepts()"
   ]
  },
  {
   "cell_type": "code",
   "execution_count": null,
   "metadata": {},
   "outputs": [],
   "source": []
  }
 ],
 "metadata": {
  "kernelspec": {
   "display_name": "Python 3",
   "language": "python",
   "name": "python3"
  },
  "language_info": {
   "codemirror_mode": {
    "name": "ipython",
    "version": 3
   },
   "file_extension": ".py",
   "mimetype": "text/x-python",
   "name": "python",
   "nbconvert_exporter": "python",
   "pygments_lexer": "ipython3",
   "version": "3.6.3"
  }
 },
 "nbformat": 4,
 "nbformat_minor": 2
}
